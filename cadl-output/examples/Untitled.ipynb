{
 "cells": [
  {
   "cell_type": "code",
   "execution_count": 1,
   "id": "ec3e9717",
   "metadata": {},
   "outputs": [],
   "source": [
    "import os"
   ]
  },
  {
   "cell_type": "code",
   "execution_count": 3,
   "id": "75c96878",
   "metadata": {},
   "outputs": [],
   "source": [
    "paths = os.listdir(path='.')"
   ]
  },
  {
   "cell_type": "code",
   "execution_count": 4,
   "id": "137498b5",
   "metadata": {},
   "outputs": [
    {
     "data": {
      "text/plain": [
       "['.ipynb_checkpoints',\n",
       " 'Operations_List_MaximumSet_Gen.json',\n",
       " 'PlayerAccountPools_CreateOrUpdate_MaximumSet_Gen.json',\n",
       " 'PlayerAccountPools_Delete_MaximumSet_Gen.json',\n",
       " 'PlayerAccountPools_Get_MaximumSet_Gen.json',\n",
       " 'PlayerAccountPools_ListByResourceGroup_MaximumSet_Gen.json',\n",
       " 'PlayerAccountPools_ListBySubscription_MaximumSet_Gen.json',\n",
       " 'PlayerAccountPools_Update_MaximumSet_Gen.json',\n",
       " 'Titles_CreateOrUpdate_MaximumSet_Gen.json',\n",
       " 'Titles_Delete_MaximumSet_Gen.json',\n",
       " 'Titles_Get_MaximumSet_Gen.json',\n",
       " 'Titles_ListByResourceGroup_MaximumSet_Gen.json',\n",
       " 'Titles_ListBySubscription_MaximumSet_Gen.json',\n",
       " 'Titles_Update_MaximumSet_Gen.json',\n",
       " 'Untitled.ipynb']"
      ]
     },
     "execution_count": 4,
     "metadata": {},
     "output_type": "execute_result"
    }
   ],
   "source": [
    "paths"
   ]
  },
  {
   "cell_type": "code",
   "execution_count": 5,
   "id": "26c283e1",
   "metadata": {},
   "outputs": [],
   "source": [
    "for path in paths:\n",
    "    splitted = path.split('.')\n",
    "    if(splitted[-1] == 'json'):\n",
    "        if(path.find('MinimumSet')!=-1):\n",
    "            os.remove(path)\n",
    "        else:\n",
    "            os.rename(path, path[:-20] + \".json\")"
   ]
  },
  {
   "cell_type": "code",
   "execution_count": 6,
   "id": "009d05d4",
   "metadata": {},
   "outputs": [],
   "source": [
    "new_paths = os.listdir(path='.')"
   ]
  },
  {
   "cell_type": "code",
   "execution_count": 7,
   "id": "fe48d3de",
   "metadata": {},
   "outputs": [
    {
     "data": {
      "text/plain": [
       "['.ipynb_checkpoints',\n",
       " 'Operations_List.json',\n",
       " 'PlayerAccountPools_CreateOrUpdate.json',\n",
       " 'PlayerAccountPools_Delete.json',\n",
       " 'PlayerAccountPools_Get.json',\n",
       " 'PlayerAccountPools_ListByResourceGroup.json',\n",
       " 'PlayerAccountPools_ListBySubscription.json',\n",
       " 'PlayerAccountPools_Update.json',\n",
       " 'Titles_CreateOrUpdate.json',\n",
       " 'Titles_Delete.json',\n",
       " 'Titles_Get.json',\n",
       " 'Titles_ListByResourceGroup.json',\n",
       " 'Titles_ListBySubscription.json',\n",
       " 'Titles_Update.json',\n",
       " 'Untitled.ipynb']"
      ]
     },
     "execution_count": 7,
     "metadata": {},
     "output_type": "execute_result"
    }
   ],
   "source": [
    "new_paths"
   ]
  },
  {
   "cell_type": "code",
   "execution_count": null,
   "id": "9fc9241a",
   "metadata": {},
   "outputs": [],
   "source": []
  }
 ],
 "metadata": {
  "kernelspec": {
   "display_name": "Python 3 (ipykernel)",
   "language": "python",
   "name": "python3"
  },
  "language_info": {
   "codemirror_mode": {
    "name": "ipython",
    "version": 3
   },
   "file_extension": ".py",
   "mimetype": "text/x-python",
   "name": "python",
   "nbconvert_exporter": "python",
   "pygments_lexer": "ipython3",
   "version": "3.9.6"
  }
 },
 "nbformat": 4,
 "nbformat_minor": 5
}
